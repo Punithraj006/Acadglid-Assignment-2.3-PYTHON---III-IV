{
 "cells": [
  {
   "cell_type": "markdown",
   "metadata": {},
   "source": [
    "Problem Statement:\n",
    "    \n",
    "Implement a function longestWord() that takes a list of words and returns the longest\n",
    "one.\n",
    "\n"
   ]
  },
  {
   "cell_type": "code",
   "execution_count": 6,
   "metadata": {},
   "outputs": [],
   "source": [
    "def longestWord(word_list):    \n",
    "    from functools import reduce\n",
    "    x = reduce(lambda a,b:a if(len(a)>len(b)) else b, word_list)   \n",
    "    print('The longest word in the list is: ',x)"
   ]
  },
  {
   "cell_type": "code",
   "execution_count": 7,
   "metadata": {},
   "outputs": [
    {
     "name": "stdout",
     "output_type": "stream",
     "text": [
      "The longest word in the list is:  Universe\n"
     ]
    }
   ],
   "source": [
    "word_list = ['Great','Persons','In','the','Universe']\n",
    "longestWord(word_list)"
   ]
  },
  {
   "cell_type": "code",
   "execution_count": null,
   "metadata": {},
   "outputs": [],
   "source": []
  }
 ],
 "metadata": {
  "kernelspec": {
   "display_name": "Python 3",
   "language": "python",
   "name": "python3"
  },
  "language_info": {
   "codemirror_mode": {
    "name": "ipython",
    "version": 3
   },
   "file_extension": ".py",
   "mimetype": "text/x-python",
   "name": "python",
   "nbconvert_exporter": "python",
   "pygments_lexer": "ipython3",
   "version": "3.6.5"
  }
 },
 "nbformat": 4,
 "nbformat_minor": 2
}
